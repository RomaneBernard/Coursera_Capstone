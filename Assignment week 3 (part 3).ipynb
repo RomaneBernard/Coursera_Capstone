{
 "cells": [
  {
   "cell_type": "markdown",
   "metadata": {},
   "source": [
    "# Assignement (segmenting and clustering)"
   ]
  },
  {
   "cell_type": "code",
   "execution_count": 1,
   "metadata": {},
   "outputs": [],
   "source": [
    "import pandas as pd"
   ]
  },
  {
   "cell_type": "markdown",
   "metadata": {},
   "source": [
    "## Get dataframe from wikipedia"
   ]
  },
  {
   "cell_type": "code",
   "execution_count": 2,
   "metadata": {},
   "outputs": [],
   "source": [
    "link = 'https://en.wikipedia.org/wiki/List_of_postal_codes_of_Canada:_M'"
   ]
  },
  {
   "cell_type": "code",
   "execution_count": 3,
   "metadata": {},
   "outputs": [
    {
     "data": {
      "text/html": [
       "<div>\n",
       "<style scoped>\n",
       "    .dataframe tbody tr th:only-of-type {\n",
       "        vertical-align: middle;\n",
       "    }\n",
       "\n",
       "    .dataframe tbody tr th {\n",
       "        vertical-align: top;\n",
       "    }\n",
       "\n",
       "    .dataframe thead th {\n",
       "        text-align: right;\n",
       "    }\n",
       "</style>\n",
       "<table border=\"1\" class=\"dataframe\">\n",
       "  <thead>\n",
       "    <tr style=\"text-align: right;\">\n",
       "      <th></th>\n",
       "      <th>Postcode</th>\n",
       "      <th>Borough</th>\n",
       "      <th>Neighbourhood</th>\n",
       "    </tr>\n",
       "  </thead>\n",
       "  <tbody>\n",
       "    <tr>\n",
       "      <th>0</th>\n",
       "      <td>M1A</td>\n",
       "      <td>Not assigned</td>\n",
       "      <td>Not assigned</td>\n",
       "    </tr>\n",
       "    <tr>\n",
       "      <th>1</th>\n",
       "      <td>M2A</td>\n",
       "      <td>Not assigned</td>\n",
       "      <td>Not assigned</td>\n",
       "    </tr>\n",
       "    <tr>\n",
       "      <th>2</th>\n",
       "      <td>M3A</td>\n",
       "      <td>North York</td>\n",
       "      <td>Parkwoods</td>\n",
       "    </tr>\n",
       "    <tr>\n",
       "      <th>3</th>\n",
       "      <td>M4A</td>\n",
       "      <td>North York</td>\n",
       "      <td>Victoria Village</td>\n",
       "    </tr>\n",
       "    <tr>\n",
       "      <th>4</th>\n",
       "      <td>M5A</td>\n",
       "      <td>Downtown Toronto</td>\n",
       "      <td>Harbourfront</td>\n",
       "    </tr>\n",
       "  </tbody>\n",
       "</table>\n",
       "</div>"
      ],
      "text/plain": [
       "  Postcode           Borough     Neighbourhood\n",
       "0      M1A      Not assigned      Not assigned\n",
       "1      M2A      Not assigned      Not assigned\n",
       "2      M3A        North York         Parkwoods\n",
       "3      M4A        North York  Victoria Village\n",
       "4      M5A  Downtown Toronto      Harbourfront"
      ]
     },
     "execution_count": 3,
     "metadata": {},
     "output_type": "execute_result"
    }
   ],
   "source": [
    "# import data as dataframe with pandas and select the first table (index 0)\n",
    "df_toronto = pd.read_html(link)[0]\n",
    "df_toronto.head()"
   ]
  },
  {
   "cell_type": "markdown",
   "metadata": {},
   "source": [
    "## Clean dataframe"
   ]
  },
  {
   "cell_type": "code",
   "execution_count": 4,
   "metadata": {},
   "outputs": [],
   "source": [
    "# rename postalcode column\n",
    "df_toronto.rename(columns={'Postcode': 'PostalCode'}, inplace=True)"
   ]
  },
  {
   "cell_type": "code",
   "execution_count": 5,
   "metadata": {},
   "outputs": [
    {
     "data": {
      "text/html": [
       "<div>\n",
       "<style scoped>\n",
       "    .dataframe tbody tr th:only-of-type {\n",
       "        vertical-align: middle;\n",
       "    }\n",
       "\n",
       "    .dataframe tbody tr th {\n",
       "        vertical-align: top;\n",
       "    }\n",
       "\n",
       "    .dataframe thead th {\n",
       "        text-align: right;\n",
       "    }\n",
       "</style>\n",
       "<table border=\"1\" class=\"dataframe\">\n",
       "  <thead>\n",
       "    <tr style=\"text-align: right;\">\n",
       "      <th></th>\n",
       "      <th>PostalCode</th>\n",
       "      <th>Borough</th>\n",
       "      <th>Neighbourhood</th>\n",
       "    </tr>\n",
       "  </thead>\n",
       "  <tbody>\n",
       "    <tr>\n",
       "      <th>0</th>\n",
       "      <td>M1A</td>\n",
       "      <td>Not assigned</td>\n",
       "      <td>Not assigned</td>\n",
       "    </tr>\n",
       "    <tr>\n",
       "      <th>1</th>\n",
       "      <td>M2A</td>\n",
       "      <td>Not assigned</td>\n",
       "      <td>Not assigned</td>\n",
       "    </tr>\n",
       "    <tr>\n",
       "      <th>2</th>\n",
       "      <td>M3A</td>\n",
       "      <td>North York</td>\n",
       "      <td>Parkwoods</td>\n",
       "    </tr>\n",
       "    <tr>\n",
       "      <th>3</th>\n",
       "      <td>M4A</td>\n",
       "      <td>North York</td>\n",
       "      <td>Victoria Village</td>\n",
       "    </tr>\n",
       "    <tr>\n",
       "      <th>4</th>\n",
       "      <td>M5A</td>\n",
       "      <td>Downtown Toronto</td>\n",
       "      <td>Harbourfront</td>\n",
       "    </tr>\n",
       "  </tbody>\n",
       "</table>\n",
       "</div>"
      ],
      "text/plain": [
       "  PostalCode           Borough     Neighbourhood\n",
       "0        M1A      Not assigned      Not assigned\n",
       "1        M2A      Not assigned      Not assigned\n",
       "2        M3A        North York         Parkwoods\n",
       "3        M4A        North York  Victoria Village\n",
       "4        M5A  Downtown Toronto      Harbourfront"
      ]
     },
     "execution_count": 5,
     "metadata": {},
     "output_type": "execute_result"
    }
   ],
   "source": [
    "df_toronto.head()"
   ]
  },
  {
   "cell_type": "code",
   "execution_count": 6,
   "metadata": {},
   "outputs": [
    {
     "data": {
      "text/html": [
       "<div>\n",
       "<style scoped>\n",
       "    .dataframe tbody tr th:only-of-type {\n",
       "        vertical-align: middle;\n",
       "    }\n",
       "\n",
       "    .dataframe tbody tr th {\n",
       "        vertical-align: top;\n",
       "    }\n",
       "\n",
       "    .dataframe thead th {\n",
       "        text-align: right;\n",
       "    }\n",
       "</style>\n",
       "<table border=\"1\" class=\"dataframe\">\n",
       "  <thead>\n",
       "    <tr style=\"text-align: right;\">\n",
       "      <th></th>\n",
       "      <th>PostalCode</th>\n",
       "      <th>Borough</th>\n",
       "      <th>Neighbourhood</th>\n",
       "    </tr>\n",
       "  </thead>\n",
       "  <tbody>\n",
       "    <tr>\n",
       "      <th>2</th>\n",
       "      <td>M3A</td>\n",
       "      <td>North York</td>\n",
       "      <td>Parkwoods</td>\n",
       "    </tr>\n",
       "    <tr>\n",
       "      <th>3</th>\n",
       "      <td>M4A</td>\n",
       "      <td>North York</td>\n",
       "      <td>Victoria Village</td>\n",
       "    </tr>\n",
       "    <tr>\n",
       "      <th>4</th>\n",
       "      <td>M5A</td>\n",
       "      <td>Downtown Toronto</td>\n",
       "      <td>Harbourfront</td>\n",
       "    </tr>\n",
       "    <tr>\n",
       "      <th>5</th>\n",
       "      <td>M6A</td>\n",
       "      <td>North York</td>\n",
       "      <td>Lawrence Heights</td>\n",
       "    </tr>\n",
       "    <tr>\n",
       "      <th>6</th>\n",
       "      <td>M6A</td>\n",
       "      <td>North York</td>\n",
       "      <td>Lawrence Manor</td>\n",
       "    </tr>\n",
       "  </tbody>\n",
       "</table>\n",
       "</div>"
      ],
      "text/plain": [
       "  PostalCode           Borough     Neighbourhood\n",
       "2        M3A        North York         Parkwoods\n",
       "3        M4A        North York  Victoria Village\n",
       "4        M5A  Downtown Toronto      Harbourfront\n",
       "5        M6A        North York  Lawrence Heights\n",
       "6        M6A        North York    Lawrence Manor"
      ]
     },
     "execution_count": 6,
     "metadata": {},
     "output_type": "execute_result"
    }
   ],
   "source": [
    "#drop cells with \"not-assined\" borough\n",
    "df_toronto = df_toronto[df_toronto['Borough']!='Not assigned']\n",
    "df_toronto.head()"
   ]
  },
  {
   "cell_type": "markdown",
   "metadata": {},
   "source": [
    "## Format dataframe"
   ]
  },
  {
   "cell_type": "code",
   "execution_count": 7,
   "metadata": {},
   "outputs": [],
   "source": [
    "#combine rows with same postal code and borough\n",
    "df_toronto_merged = df_toronto.groupby(['PostalCode', 'Borough'], sort=False)\n",
    "\n",
    "#merge neighbourhood names in same row\n",
    "df_toronto_merged = df_toronto_merged['Neighbourhood'].apply(','.join).reset_index()"
   ]
  },
  {
   "cell_type": "code",
   "execution_count": 8,
   "metadata": {},
   "outputs": [
    {
     "data": {
      "text/html": [
       "<div>\n",
       "<style scoped>\n",
       "    .dataframe tbody tr th:only-of-type {\n",
       "        vertical-align: middle;\n",
       "    }\n",
       "\n",
       "    .dataframe tbody tr th {\n",
       "        vertical-align: top;\n",
       "    }\n",
       "\n",
       "    .dataframe thead th {\n",
       "        text-align: right;\n",
       "    }\n",
       "</style>\n",
       "<table border=\"1\" class=\"dataframe\">\n",
       "  <thead>\n",
       "    <tr style=\"text-align: right;\">\n",
       "      <th></th>\n",
       "      <th>PostalCode</th>\n",
       "      <th>Borough</th>\n",
       "      <th>Neighbourhood</th>\n",
       "    </tr>\n",
       "  </thead>\n",
       "  <tbody>\n",
       "    <tr>\n",
       "      <th>0</th>\n",
       "      <td>M3A</td>\n",
       "      <td>North York</td>\n",
       "      <td>Parkwoods</td>\n",
       "    </tr>\n",
       "    <tr>\n",
       "      <th>1</th>\n",
       "      <td>M4A</td>\n",
       "      <td>North York</td>\n",
       "      <td>Victoria Village</td>\n",
       "    </tr>\n",
       "    <tr>\n",
       "      <th>2</th>\n",
       "      <td>M5A</td>\n",
       "      <td>Downtown Toronto</td>\n",
       "      <td>Harbourfront</td>\n",
       "    </tr>\n",
       "    <tr>\n",
       "      <th>3</th>\n",
       "      <td>M6A</td>\n",
       "      <td>North York</td>\n",
       "      <td>Lawrence Heights,Lawrence Manor</td>\n",
       "    </tr>\n",
       "    <tr>\n",
       "      <th>4</th>\n",
       "      <td>M7A</td>\n",
       "      <td>Downtown Toronto</td>\n",
       "      <td>Queen's Park</td>\n",
       "    </tr>\n",
       "  </tbody>\n",
       "</table>\n",
       "</div>"
      ],
      "text/plain": [
       "  PostalCode           Borough                    Neighbourhood\n",
       "0        M3A        North York                        Parkwoods\n",
       "1        M4A        North York                 Victoria Village\n",
       "2        M5A  Downtown Toronto                     Harbourfront\n",
       "3        M6A        North York  Lawrence Heights,Lawrence Manor\n",
       "4        M7A  Downtown Toronto                     Queen's Park"
      ]
     },
     "execution_count": 8,
     "metadata": {},
     "output_type": "execute_result"
    }
   ],
   "source": [
    "df_toronto_merged.head()"
   ]
  },
  {
   "cell_type": "code",
   "execution_count": 9,
   "metadata": {},
   "outputs": [
    {
     "data": {
      "text/html": [
       "<div>\n",
       "<style scoped>\n",
       "    .dataframe tbody tr th:only-of-type {\n",
       "        vertical-align: middle;\n",
       "    }\n",
       "\n",
       "    .dataframe tbody tr th {\n",
       "        vertical-align: top;\n",
       "    }\n",
       "\n",
       "    .dataframe thead th {\n",
       "        text-align: right;\n",
       "    }\n",
       "</style>\n",
       "<table border=\"1\" class=\"dataframe\">\n",
       "  <thead>\n",
       "    <tr style=\"text-align: right;\">\n",
       "      <th></th>\n",
       "      <th>PostalCode</th>\n",
       "      <th>Borough</th>\n",
       "      <th>Neighbourhood</th>\n",
       "    </tr>\n",
       "  </thead>\n",
       "  <tbody>\n",
       "    <tr>\n",
       "      <th>5</th>\n",
       "      <td>M9A</td>\n",
       "      <td>Queen's Park</td>\n",
       "      <td>Not assigned</td>\n",
       "    </tr>\n",
       "  </tbody>\n",
       "</table>\n",
       "</div>"
      ],
      "text/plain": [
       "  PostalCode       Borough Neighbourhood\n",
       "5        M9A  Queen's Park  Not assigned"
      ]
     },
     "execution_count": 9,
     "metadata": {},
     "output_type": "execute_result"
    }
   ],
   "source": [
    "#check for not assigned neighbourhood\n",
    "df_toronto_merged[df_toronto_merged.Neighbourhood == 'Not assigned']"
   ]
  },
  {
   "cell_type": "code",
   "execution_count": 10,
   "metadata": {},
   "outputs": [],
   "source": [
    "#get indexes for not assigned neighbourhood\n",
    "i_not_assigned = df_toronto_merged[df_toronto_merged.Neighbourhood == 'Not assigned'].index"
   ]
  },
  {
   "cell_type": "code",
   "execution_count": 11,
   "metadata": {},
   "outputs": [],
   "source": [
    "#assign name of borough to not assigned neighbourhood\n",
    "df_toronto_merged.loc[i_not_assigned, 'Neighbourhood'] = df_toronto_merged['Borough']"
   ]
  },
  {
   "cell_type": "code",
   "execution_count": 12,
   "metadata": {},
   "outputs": [
    {
     "data": {
      "text/html": [
       "<div>\n",
       "<style scoped>\n",
       "    .dataframe tbody tr th:only-of-type {\n",
       "        vertical-align: middle;\n",
       "    }\n",
       "\n",
       "    .dataframe tbody tr th {\n",
       "        vertical-align: top;\n",
       "    }\n",
       "\n",
       "    .dataframe thead th {\n",
       "        text-align: right;\n",
       "    }\n",
       "</style>\n",
       "<table border=\"1\" class=\"dataframe\">\n",
       "  <thead>\n",
       "    <tr style=\"text-align: right;\">\n",
       "      <th></th>\n",
       "      <th>PostalCode</th>\n",
       "      <th>Borough</th>\n",
       "      <th>Neighbourhood</th>\n",
       "    </tr>\n",
       "  </thead>\n",
       "  <tbody>\n",
       "  </tbody>\n",
       "</table>\n",
       "</div>"
      ],
      "text/plain": [
       "Empty DataFrame\n",
       "Columns: [PostalCode, Borough, Neighbourhood]\n",
       "Index: []"
      ]
     },
     "execution_count": 12,
     "metadata": {},
     "output_type": "execute_result"
    }
   ],
   "source": [
    "#checking all neighbourhood are assigned\n",
    "df_toronto_merged[df_toronto_merged.Neighbourhood == 'Not assigned']"
   ]
  },
  {
   "cell_type": "code",
   "execution_count": 13,
   "metadata": {},
   "outputs": [
    {
     "data": {
      "text/plain": [
       "(103, 3)"
      ]
     },
     "execution_count": 13,
     "metadata": {},
     "output_type": "execute_result"
    }
   ],
   "source": [
    "df_toronto_merged.shape"
   ]
  },
  {
   "cell_type": "markdown",
   "metadata": {},
   "source": [
    "## Get location data"
   ]
  },
  {
   "cell_type": "markdown",
   "metadata": {},
   "source": [
    "We will use the Geocoder Python package (https://geocoder.readthedocs.io/index.html)"
   ]
  },
  {
   "cell_type": "markdown",
   "metadata": {},
   "source": [
    "### update: the geocoder didn't work (keep returning None), so location extracted from csv file below"
   ]
  },
  {
   "cell_type": "code",
   "execution_count": 14,
   "metadata": {},
   "outputs": [
    {
     "name": "stdout",
     "output_type": "stream",
     "text": [
      "Requirement already satisfied: geocoder in c:\\users\\roman\\appdata\\local\\programs\\python\\python38-32\\lib\\site-packages (1.38.1)\n",
      "Requirement already satisfied: requests in c:\\users\\roman\\appdata\\local\\programs\\python\\python38-32\\lib\\site-packages (from geocoder) (2.22.0)\n",
      "Requirement already satisfied: click in c:\\users\\roman\\appdata\\local\\programs\\python\\python38-32\\lib\\site-packages (from geocoder) (7.0)\n",
      "Requirement already satisfied: ratelim in c:\\users\\roman\\appdata\\local\\programs\\python\\python38-32\\lib\\site-packages (from geocoder) (0.1.6)\n",
      "Requirement already satisfied: future in c:\\users\\roman\\appdata\\local\\programs\\python\\python38-32\\lib\\site-packages (from geocoder) (0.18.2)\n",
      "Requirement already satisfied: six in c:\\users\\roman\\appdata\\local\\programs\\python\\python38-32\\lib\\site-packages (from geocoder) (1.14.0)\n",
      "Requirement already satisfied: chardet<3.1.0,>=3.0.2 in c:\\users\\roman\\appdata\\local\\programs\\python\\python38-32\\lib\\site-packages (from requests->geocoder) (3.0.4)\n",
      "Requirement already satisfied: idna<2.9,>=2.5 in c:\\users\\roman\\appdata\\local\\programs\\python\\python38-32\\lib\\site-packages (from requests->geocoder) (2.8)\n",
      "Requirement already satisfied: certifi>=2017.4.17 in c:\\users\\roman\\appdata\\local\\programs\\python\\python38-32\\lib\\site-packages (from requests->geocoder) (2019.11.28)\n",
      "Requirement already satisfied: urllib3!=1.25.0,!=1.25.1,<1.26,>=1.21.1 in c:\\users\\roman\\appdata\\local\\programs\\python\\python38-32\\lib\\site-packages (from requests->geocoder) (1.25.8)\n",
      "Requirement already satisfied: decorator in c:\\users\\roman\\appdata\\local\\programs\\python\\python38-32\\lib\\site-packages (from ratelim->geocoder) (4.4.1)\n"
     ]
    }
   ],
   "source": [
    "#installing the package \n",
    "!pip install geocoder"
   ]
  },
  {
   "cell_type": "code",
   "execution_count": 15,
   "metadata": {},
   "outputs": [],
   "source": [
    "import geocoder"
   ]
  },
  {
   "cell_type": "code",
   "execution_count": 16,
   "metadata": {
    "scrolled": true
   },
   "outputs": [
    {
     "data": {
      "text/html": [
       "<div>\n",
       "<style scoped>\n",
       "    .dataframe tbody tr th:only-of-type {\n",
       "        vertical-align: middle;\n",
       "    }\n",
       "\n",
       "    .dataframe tbody tr th {\n",
       "        vertical-align: top;\n",
       "    }\n",
       "\n",
       "    .dataframe thead th {\n",
       "        text-align: right;\n",
       "    }\n",
       "</style>\n",
       "<table border=\"1\" class=\"dataframe\">\n",
       "  <thead>\n",
       "    <tr style=\"text-align: right;\">\n",
       "      <th></th>\n",
       "      <th>PostalCode</th>\n",
       "      <th>Borough</th>\n",
       "      <th>Neighbourhood</th>\n",
       "    </tr>\n",
       "  </thead>\n",
       "  <tbody>\n",
       "    <tr>\n",
       "      <th>0</th>\n",
       "      <td>M3A</td>\n",
       "      <td>North York</td>\n",
       "      <td>Parkwoods</td>\n",
       "    </tr>\n",
       "    <tr>\n",
       "      <th>1</th>\n",
       "      <td>M4A</td>\n",
       "      <td>North York</td>\n",
       "      <td>Victoria Village</td>\n",
       "    </tr>\n",
       "    <tr>\n",
       "      <th>2</th>\n",
       "      <td>M5A</td>\n",
       "      <td>Downtown Toronto</td>\n",
       "      <td>Harbourfront</td>\n",
       "    </tr>\n",
       "    <tr>\n",
       "      <th>3</th>\n",
       "      <td>M6A</td>\n",
       "      <td>North York</td>\n",
       "      <td>Lawrence Heights,Lawrence Manor</td>\n",
       "    </tr>\n",
       "    <tr>\n",
       "      <th>4</th>\n",
       "      <td>M7A</td>\n",
       "      <td>Downtown Toronto</td>\n",
       "      <td>Queen's Park</td>\n",
       "    </tr>\n",
       "  </tbody>\n",
       "</table>\n",
       "</div>"
      ],
      "text/plain": [
       "  PostalCode           Borough                    Neighbourhood\n",
       "0        M3A        North York                        Parkwoods\n",
       "1        M4A        North York                 Victoria Village\n",
       "2        M5A  Downtown Toronto                     Harbourfront\n",
       "3        M6A        North York  Lawrence Heights,Lawrence Manor\n",
       "4        M7A  Downtown Toronto                     Queen's Park"
      ]
     },
     "execution_count": 16,
     "metadata": {},
     "output_type": "execute_result"
    }
   ],
   "source": [
    "df_toronto_merged.head()"
   ]
  },
  {
   "cell_type": "code",
   "execution_count": 17,
   "metadata": {},
   "outputs": [],
   "source": [
    "#getting list of all postal code\n",
    "pc_list = df_toronto_merged['PostalCode'].to_list()"
   ]
  },
  {
   "cell_type": "markdown",
   "metadata": {},
   "source": [
    "## Get location data from csv"
   ]
  },
  {
   "cell_type": "code",
   "execution_count": 18,
   "metadata": {},
   "outputs": [],
   "source": [
    "csv_link = 'http://cocl.us/Geospatial_data'"
   ]
  },
  {
   "cell_type": "code",
   "execution_count": 19,
   "metadata": {},
   "outputs": [
    {
     "data": {
      "text/html": [
       "<div>\n",
       "<style scoped>\n",
       "    .dataframe tbody tr th:only-of-type {\n",
       "        vertical-align: middle;\n",
       "    }\n",
       "\n",
       "    .dataframe tbody tr th {\n",
       "        vertical-align: top;\n",
       "    }\n",
       "\n",
       "    .dataframe thead th {\n",
       "        text-align: right;\n",
       "    }\n",
       "</style>\n",
       "<table border=\"1\" class=\"dataframe\">\n",
       "  <thead>\n",
       "    <tr style=\"text-align: right;\">\n",
       "      <th></th>\n",
       "      <th>Postal Code</th>\n",
       "      <th>Latitude</th>\n",
       "      <th>Longitude</th>\n",
       "    </tr>\n",
       "  </thead>\n",
       "  <tbody>\n",
       "    <tr>\n",
       "      <th>0</th>\n",
       "      <td>M1B</td>\n",
       "      <td>43.806686</td>\n",
       "      <td>-79.194353</td>\n",
       "    </tr>\n",
       "    <tr>\n",
       "      <th>1</th>\n",
       "      <td>M1C</td>\n",
       "      <td>43.784535</td>\n",
       "      <td>-79.160497</td>\n",
       "    </tr>\n",
       "    <tr>\n",
       "      <th>2</th>\n",
       "      <td>M1E</td>\n",
       "      <td>43.763573</td>\n",
       "      <td>-79.188711</td>\n",
       "    </tr>\n",
       "    <tr>\n",
       "      <th>3</th>\n",
       "      <td>M1G</td>\n",
       "      <td>43.770992</td>\n",
       "      <td>-79.216917</td>\n",
       "    </tr>\n",
       "    <tr>\n",
       "      <th>4</th>\n",
       "      <td>M1H</td>\n",
       "      <td>43.773136</td>\n",
       "      <td>-79.239476</td>\n",
       "    </tr>\n",
       "    <tr>\n",
       "      <th>...</th>\n",
       "      <td>...</td>\n",
       "      <td>...</td>\n",
       "      <td>...</td>\n",
       "    </tr>\n",
       "    <tr>\n",
       "      <th>98</th>\n",
       "      <td>M9N</td>\n",
       "      <td>43.706876</td>\n",
       "      <td>-79.518188</td>\n",
       "    </tr>\n",
       "    <tr>\n",
       "      <th>99</th>\n",
       "      <td>M9P</td>\n",
       "      <td>43.696319</td>\n",
       "      <td>-79.532242</td>\n",
       "    </tr>\n",
       "    <tr>\n",
       "      <th>100</th>\n",
       "      <td>M9R</td>\n",
       "      <td>43.688905</td>\n",
       "      <td>-79.554724</td>\n",
       "    </tr>\n",
       "    <tr>\n",
       "      <th>101</th>\n",
       "      <td>M9V</td>\n",
       "      <td>43.739416</td>\n",
       "      <td>-79.588437</td>\n",
       "    </tr>\n",
       "    <tr>\n",
       "      <th>102</th>\n",
       "      <td>M9W</td>\n",
       "      <td>43.706748</td>\n",
       "      <td>-79.594054</td>\n",
       "    </tr>\n",
       "  </tbody>\n",
       "</table>\n",
       "<p>103 rows × 3 columns</p>\n",
       "</div>"
      ],
      "text/plain": [
       "    Postal Code   Latitude  Longitude\n",
       "0           M1B  43.806686 -79.194353\n",
       "1           M1C  43.784535 -79.160497\n",
       "2           M1E  43.763573 -79.188711\n",
       "3           M1G  43.770992 -79.216917\n",
       "4           M1H  43.773136 -79.239476\n",
       "..          ...        ...        ...\n",
       "98          M9N  43.706876 -79.518188\n",
       "99          M9P  43.696319 -79.532242\n",
       "100         M9R  43.688905 -79.554724\n",
       "101         M9V  43.739416 -79.588437\n",
       "102         M9W  43.706748 -79.594054\n",
       "\n",
       "[103 rows x 3 columns]"
      ]
     },
     "execution_count": 19,
     "metadata": {},
     "output_type": "execute_result"
    }
   ],
   "source": [
    "df_loc = pd.read_csv(csv_link)\n",
    "df_loc"
   ]
  },
  {
   "cell_type": "markdown",
   "metadata": {},
   "source": [
    "First, we will rename the Postal Code column from the location dataframe to have the same name as the Toronto dataframe. \n",
    "\n",
    "Then, we will merge the two dataframes based on the column 'PostalCode'"
   ]
  },
  {
   "cell_type": "code",
   "execution_count": 20,
   "metadata": {},
   "outputs": [],
   "source": [
    "df_loc.rename(columns={'Postal Code': 'PostalCode'}, inplace=True)"
   ]
  },
  {
   "cell_type": "code",
   "execution_count": 21,
   "metadata": {},
   "outputs": [],
   "source": [
    "df_toronto_final = pd.merge(df_toronto_merged, df_loc, on=['PostalCode'])"
   ]
  },
  {
   "cell_type": "code",
   "execution_count": 22,
   "metadata": {},
   "outputs": [
    {
     "data": {
      "text/html": [
       "<div>\n",
       "<style scoped>\n",
       "    .dataframe tbody tr th:only-of-type {\n",
       "        vertical-align: middle;\n",
       "    }\n",
       "\n",
       "    .dataframe tbody tr th {\n",
       "        vertical-align: top;\n",
       "    }\n",
       "\n",
       "    .dataframe thead th {\n",
       "        text-align: right;\n",
       "    }\n",
       "</style>\n",
       "<table border=\"1\" class=\"dataframe\">\n",
       "  <thead>\n",
       "    <tr style=\"text-align: right;\">\n",
       "      <th></th>\n",
       "      <th>PostalCode</th>\n",
       "      <th>Borough</th>\n",
       "      <th>Neighbourhood</th>\n",
       "      <th>Latitude</th>\n",
       "      <th>Longitude</th>\n",
       "    </tr>\n",
       "  </thead>\n",
       "  <tbody>\n",
       "    <tr>\n",
       "      <th>0</th>\n",
       "      <td>M3A</td>\n",
       "      <td>North York</td>\n",
       "      <td>Parkwoods</td>\n",
       "      <td>43.753259</td>\n",
       "      <td>-79.329656</td>\n",
       "    </tr>\n",
       "    <tr>\n",
       "      <th>1</th>\n",
       "      <td>M4A</td>\n",
       "      <td>North York</td>\n",
       "      <td>Victoria Village</td>\n",
       "      <td>43.725882</td>\n",
       "      <td>-79.315572</td>\n",
       "    </tr>\n",
       "    <tr>\n",
       "      <th>2</th>\n",
       "      <td>M5A</td>\n",
       "      <td>Downtown Toronto</td>\n",
       "      <td>Harbourfront</td>\n",
       "      <td>43.654260</td>\n",
       "      <td>-79.360636</td>\n",
       "    </tr>\n",
       "    <tr>\n",
       "      <th>3</th>\n",
       "      <td>M6A</td>\n",
       "      <td>North York</td>\n",
       "      <td>Lawrence Heights,Lawrence Manor</td>\n",
       "      <td>43.718518</td>\n",
       "      <td>-79.464763</td>\n",
       "    </tr>\n",
       "    <tr>\n",
       "      <th>4</th>\n",
       "      <td>M7A</td>\n",
       "      <td>Downtown Toronto</td>\n",
       "      <td>Queen's Park</td>\n",
       "      <td>43.662301</td>\n",
       "      <td>-79.389494</td>\n",
       "    </tr>\n",
       "  </tbody>\n",
       "</table>\n",
       "</div>"
      ],
      "text/plain": [
       "  PostalCode           Borough                    Neighbourhood   Latitude  \\\n",
       "0        M3A        North York                        Parkwoods  43.753259   \n",
       "1        M4A        North York                 Victoria Village  43.725882   \n",
       "2        M5A  Downtown Toronto                     Harbourfront  43.654260   \n",
       "3        M6A        North York  Lawrence Heights,Lawrence Manor  43.718518   \n",
       "4        M7A  Downtown Toronto                     Queen's Park  43.662301   \n",
       "\n",
       "   Longitude  \n",
       "0 -79.329656  \n",
       "1 -79.315572  \n",
       "2 -79.360636  \n",
       "3 -79.464763  \n",
       "4 -79.389494  "
      ]
     },
     "execution_count": 22,
     "metadata": {},
     "output_type": "execute_result"
    }
   ],
   "source": [
    "df_toronto_final.head()"
   ]
  },
  {
   "cell_type": "markdown",
   "metadata": {},
   "source": [
    "## Explore the neighbourhoods"
   ]
  },
  {
   "cell_type": "code",
   "execution_count": 42,
   "metadata": {},
   "outputs": [],
   "source": [
    "import requests"
   ]
  },
  {
   "cell_type": "markdown",
   "metadata": {},
   "source": [
    "Credentials to connect to foursquare API to explore neighbourhoods"
   ]
  },
  {
   "cell_type": "code",
   "execution_count": 24,
   "metadata": {},
   "outputs": [],
   "source": [
    "CLIENT_ID = 'xxx' # your Foursquare ID\n",
    "CLIENT_SECRET = 'xxx' # your Foursquare Secret\n",
    "VERSION = '20180605' # Foursquare API version"
   ]
  },
  {
   "cell_type": "code",
   "execution_count": 36,
   "metadata": {},
   "outputs": [],
   "source": [
    "#get a list of the neighbourhood\n",
    "neigh = df_toronto_final['Neighbourhood']"
   ]
  },
  {
   "cell_type": "markdown",
   "metadata": {},
   "source": [
    "### Explore the venues in Toronto using the function created in the past lab"
   ]
  },
  {
   "cell_type": "markdown",
   "metadata": {},
   "source": [
    "We will use this function to get the categories of the venues"
   ]
  },
  {
   "cell_type": "code",
   "execution_count": 39,
   "metadata": {},
   "outputs": [],
   "source": [
    "def getNearbyVenues(names, latitudes, longitudes, radius=500):\n",
    "    \n",
    "    venues_list=[]\n",
    "    for name, lat, lng in zip(names, latitudes, longitudes):\n",
    "            \n",
    "        # create the API request URL\n",
    "        url = 'https://api.foursquare.com/v2/venues/explore?&client_id={}&client_secret={}&v={}&ll={},{}&radius={}&limit={}'.format(\n",
    "            CLIENT_ID, \n",
    "            CLIENT_SECRET, \n",
    "            VERSION, \n",
    "            lat, \n",
    "            lng, \n",
    "            radius, \n",
    "            LIMIT)\n",
    "            \n",
    "        # make the GET request\n",
    "        results = requests.get(url).json()[\"response\"]['groups'][0]['items']\n",
    "        \n",
    "        # return only relevant information for each nearby venue\n",
    "        venues_list.append([(\n",
    "            name, \n",
    "            lat, \n",
    "            lng, \n",
    "            v['venue']['name'], \n",
    "            v['venue']['location']['lat'], \n",
    "            v['venue']['location']['lng'],  \n",
    "            v['venue']['categories'][0]['name']) for v in results])\n",
    "\n",
    "    nearby_venues = pd.DataFrame([item for venue_list in venues_list for item in venue_list])\n",
    "    nearby_venues.columns = ['Neighborhood', \n",
    "                  'Neighborhood Latitude', \n",
    "                  'Neighborhood Longitude', \n",
    "                  'Venue', \n",
    "                  'Venue Latitude', \n",
    "                  'Venue Longitude', \n",
    "                  'Venue Category']\n",
    "    \n",
    "    return(nearby_venues)"
   ]
  },
  {
   "cell_type": "code",
   "execution_count": 40,
   "metadata": {},
   "outputs": [],
   "source": [
    "#set a limit of 100\n",
    "LIMIT = 100"
   ]
  },
  {
   "cell_type": "code",
   "execution_count": 43,
   "metadata": {},
   "outputs": [
    {
     "name": "stdout",
     "output_type": "stream",
     "text": [
      "Parkwoods\n",
      "Victoria Village\n",
      "Harbourfront\n",
      "Lawrence Heights,Lawrence Manor\n",
      "Queen's Park\n",
      "Queen's Park\n",
      "Rouge,Malvern\n",
      "Don Mills North\n",
      "Woodbine Gardens,Parkview Hill\n",
      "Ryerson,Garden District\n",
      "Glencairn\n",
      "Cloverdale,Islington,Martin Grove,Princess Gardens,West Deane Park\n",
      "Highland Creek,Rouge Hill,Port Union\n",
      "Flemingdon Park,Don Mills South\n",
      "Woodbine Heights\n",
      "St. James Town\n",
      "Humewood-Cedarvale\n",
      "Bloordale Gardens,Eringate,Markland Wood,Old Burnhamthorpe\n",
      "Guildwood,Morningside,West Hill\n",
      "The Beaches\n",
      "Berczy Park\n",
      "Caledonia-Fairbanks\n",
      "Woburn\n",
      "Leaside\n",
      "Central Bay Street\n",
      "Christie\n",
      "Cedarbrae\n",
      "Hillcrest Village\n",
      "Bathurst Manor,Downsview North,Wilson Heights\n",
      "Thorncliffe Park\n",
      "Adelaide,King,Richmond\n",
      "Dovercourt Village,Dufferin\n",
      "Scarborough Village\n",
      "Fairview,Henry Farm,Oriole\n",
      "Northwood Park,York University\n",
      "East Toronto\n",
      "Harbourfront East,Toronto Islands,Union Station\n",
      "Little Portugal,Trinity\n",
      "East Birchmount Park,Ionview,Kennedy Park\n",
      "Bayview Village\n",
      "CFB Toronto,Downsview East\n",
      "The Danforth West,Riverdale\n",
      "Design Exchange,Toronto Dominion Centre\n",
      "Brockton,Exhibition Place,Parkdale Village\n",
      "Clairlea,Golden Mile,Oakridge\n",
      "Silver Hills,York Mills\n",
      "Downsview West\n",
      "The Beaches West,India Bazaar\n",
      "Commerce Court,Victoria Hotel\n",
      "Downsview,North Park,Upwood Park\n",
      "Humber Summit\n",
      "Cliffcrest,Cliffside,Scarborough Village West\n",
      "Newtonbrook,Willowdale\n",
      "Downsview Central\n",
      "Studio District\n",
      "Bedford Park,Lawrence Manor East\n",
      "Del Ray,Keelesdale,Mount Dennis,Silverthorn\n",
      "Emery,Humberlea\n",
      "Birch Cliff,Cliffside West\n",
      "Willowdale South\n",
      "Downsview Northwest\n",
      "Lawrence Park\n",
      "Roselawn\n",
      "The Junction North,Runnymede\n",
      "Weston\n",
      "Dorset Park,Scarborough Town Centre,Wexford Heights\n",
      "York Mills West\n",
      "Davisville North\n",
      "Forest Hill North,Forest Hill West\n",
      "High Park,The Junction South\n",
      "Westmount\n",
      "Maryvale,Wexford\n",
      "Willowdale West\n",
      "North Toronto West\n",
      "The Annex,North Midtown,Yorkville\n",
      "Parkdale,Roncesvalles\n",
      "Canada Post Gateway Processing Centre\n",
      "Kingsview Village,Martin Grove Gardens,Richview Gardens,St. Phillips\n",
      "Agincourt\n",
      "Davisville\n",
      "Harbord,University of Toronto\n",
      "Runnymede,Swansea\n",
      "Clarks Corners,Sullivan,Tam O'Shanter\n",
      "Moore Park,Summerhill East\n",
      "Chinatown,Grange Park,Kensington Market\n",
      "Agincourt North,L'Amoreaux East,Milliken,Steeles East\n",
      "Deer Park,Forest Hill SE,Rathnelly,South Hill,Summerhill West\n",
      "CN Tower,Bathurst Quay,Island airport,Harbourfront West,King and Spadina,Railway Lands,South Niagara\n",
      "Humber Bay Shores,Mimico South,New Toronto\n",
      "Albion Gardens,Beaumond Heights,Humbergate,Jamestown,Mount Olive,Silverstone,South Steeles,Thistletown\n",
      "L'Amoreaux West\n",
      "Rosedale\n",
      "Stn A PO Boxes 25 The Esplanade\n",
      "Alderwood,Long Branch\n",
      "Northwest\n",
      "Upper Rouge\n",
      "Cabbagetown,St. James Town\n",
      "First Canadian Place,Underground city\n",
      "The Kingsway,Montgomery Road,Old Mill North\n",
      "Church and Wellesley\n",
      "Business Reply Mail Processing Centre 969 Eastern\n",
      "Humber Bay,King's Mill Park,Kingsway Park South East,Mimico NE,Old Mill South,The Queensway East,Royal York South East,Sunnylea\n",
      "Kingsway Park South West,Mimico NW,The Queensway West,Royal York South West,South of Bloor\n"
     ]
    }
   ],
   "source": [
    "toronto_venues = getNearbyVenues(names=df_toronto_final['Neighbourhood'],\n",
    "                                   latitudes=df_toronto_final['Latitude'],\n",
    "                                   longitudes=df_toronto_final['Longitude']\n",
    "                                  )"
   ]
  },
  {
   "cell_type": "code",
   "execution_count": 44,
   "metadata": {},
   "outputs": [
    {
     "data": {
      "text/html": [
       "<div>\n",
       "<style scoped>\n",
       "    .dataframe tbody tr th:only-of-type {\n",
       "        vertical-align: middle;\n",
       "    }\n",
       "\n",
       "    .dataframe tbody tr th {\n",
       "        vertical-align: top;\n",
       "    }\n",
       "\n",
       "    .dataframe thead th {\n",
       "        text-align: right;\n",
       "    }\n",
       "</style>\n",
       "<table border=\"1\" class=\"dataframe\">\n",
       "  <thead>\n",
       "    <tr style=\"text-align: right;\">\n",
       "      <th></th>\n",
       "      <th>Neighborhood</th>\n",
       "      <th>Neighborhood Latitude</th>\n",
       "      <th>Neighborhood Longitude</th>\n",
       "      <th>Venue</th>\n",
       "      <th>Venue Latitude</th>\n",
       "      <th>Venue Longitude</th>\n",
       "      <th>Venue Category</th>\n",
       "    </tr>\n",
       "  </thead>\n",
       "  <tbody>\n",
       "    <tr>\n",
       "      <th>0</th>\n",
       "      <td>Parkwoods</td>\n",
       "      <td>43.753259</td>\n",
       "      <td>-79.329656</td>\n",
       "      <td>Brookbanks Park</td>\n",
       "      <td>43.751976</td>\n",
       "      <td>-79.332140</td>\n",
       "      <td>Park</td>\n",
       "    </tr>\n",
       "    <tr>\n",
       "      <th>1</th>\n",
       "      <td>Parkwoods</td>\n",
       "      <td>43.753259</td>\n",
       "      <td>-79.329656</td>\n",
       "      <td>Variety Store</td>\n",
       "      <td>43.751974</td>\n",
       "      <td>-79.333114</td>\n",
       "      <td>Food &amp; Drink Shop</td>\n",
       "    </tr>\n",
       "    <tr>\n",
       "      <th>2</th>\n",
       "      <td>Parkwoods</td>\n",
       "      <td>43.753259</td>\n",
       "      <td>-79.329656</td>\n",
       "      <td>TTC stop - 44 Valley Woods</td>\n",
       "      <td>43.755402</td>\n",
       "      <td>-79.333741</td>\n",
       "      <td>Bus Stop</td>\n",
       "    </tr>\n",
       "    <tr>\n",
       "      <th>3</th>\n",
       "      <td>Victoria Village</td>\n",
       "      <td>43.725882</td>\n",
       "      <td>-79.315572</td>\n",
       "      <td>Victoria Village Arena</td>\n",
       "      <td>43.723481</td>\n",
       "      <td>-79.315635</td>\n",
       "      <td>Hockey Arena</td>\n",
       "    </tr>\n",
       "    <tr>\n",
       "      <th>4</th>\n",
       "      <td>Victoria Village</td>\n",
       "      <td>43.725882</td>\n",
       "      <td>-79.315572</td>\n",
       "      <td>Tim Hortons</td>\n",
       "      <td>43.725517</td>\n",
       "      <td>-79.313103</td>\n",
       "      <td>Coffee Shop</td>\n",
       "    </tr>\n",
       "  </tbody>\n",
       "</table>\n",
       "</div>"
      ],
      "text/plain": [
       "       Neighborhood  Neighborhood Latitude  Neighborhood Longitude  \\\n",
       "0         Parkwoods              43.753259              -79.329656   \n",
       "1         Parkwoods              43.753259              -79.329656   \n",
       "2         Parkwoods              43.753259              -79.329656   \n",
       "3  Victoria Village              43.725882              -79.315572   \n",
       "4  Victoria Village              43.725882              -79.315572   \n",
       "\n",
       "                        Venue  Venue Latitude  Venue Longitude  \\\n",
       "0             Brookbanks Park       43.751976       -79.332140   \n",
       "1               Variety Store       43.751974       -79.333114   \n",
       "2  TTC stop - 44 Valley Woods       43.755402       -79.333741   \n",
       "3      Victoria Village Arena       43.723481       -79.315635   \n",
       "4                 Tim Hortons       43.725517       -79.313103   \n",
       "\n",
       "      Venue Category  \n",
       "0               Park  \n",
       "1  Food & Drink Shop  \n",
       "2           Bus Stop  \n",
       "3       Hockey Arena  \n",
       "4        Coffee Shop  "
      ]
     },
     "execution_count": 44,
     "metadata": {},
     "output_type": "execute_result"
    }
   ],
   "source": [
    "#print head of the venues\n",
    "toronto_venues.head()"
   ]
  },
  {
   "cell_type": "markdown",
   "metadata": {},
   "source": [
    "## Analyze each neighborhood"
   ]
  },
  {
   "cell_type": "code",
   "execution_count": 49,
   "metadata": {},
   "outputs": [],
   "source": [
    "# one hot encoding\n",
    "toronto_onehot = pd.get_dummies(toronto_venues[['Venue Category']], prefix=\"\", prefix_sep=\"\")\n",
    "\n",
    "# add neighborhood column back to dataframe\n",
    "toronto_onehot['Neighborhood'] = toronto_venues['Neighborhood'] \n",
    "\n",
    "# move neighborhood column to the first column\n",
    "fixed_columns = [toronto_onehot.columns[-1]] + list(toronto_onehot.columns[:-1])\n",
    "toronto_onehot = toronto_onehot[fixed_columns]"
   ]
  },
  {
   "cell_type": "markdown",
   "metadata": {},
   "source": [
    "#### Get weighted categories per neighborhood"
   ]
  },
  {
   "cell_type": "code",
   "execution_count": 51,
   "metadata": {},
   "outputs": [
    {
     "data": {
      "text/html": [
       "<div>\n",
       "<style scoped>\n",
       "    .dataframe tbody tr th:only-of-type {\n",
       "        vertical-align: middle;\n",
       "    }\n",
       "\n",
       "    .dataframe tbody tr th {\n",
       "        vertical-align: top;\n",
       "    }\n",
       "\n",
       "    .dataframe thead th {\n",
       "        text-align: right;\n",
       "    }\n",
       "</style>\n",
       "<table border=\"1\" class=\"dataframe\">\n",
       "  <thead>\n",
       "    <tr style=\"text-align: right;\">\n",
       "      <th></th>\n",
       "      <th>Neighborhood</th>\n",
       "      <th>Yoga Studio</th>\n",
       "      <th>Accessories Store</th>\n",
       "      <th>Afghan Restaurant</th>\n",
       "      <th>Airport</th>\n",
       "      <th>Airport Food Court</th>\n",
       "      <th>Airport Gate</th>\n",
       "      <th>Airport Lounge</th>\n",
       "      <th>Airport Service</th>\n",
       "      <th>Airport Terminal</th>\n",
       "      <th>...</th>\n",
       "      <th>Train Station</th>\n",
       "      <th>Turkish Restaurant</th>\n",
       "      <th>Vegetarian / Vegan Restaurant</th>\n",
       "      <th>Video Game Store</th>\n",
       "      <th>Video Store</th>\n",
       "      <th>Vietnamese Restaurant</th>\n",
       "      <th>Warehouse Store</th>\n",
       "      <th>Wine Bar</th>\n",
       "      <th>Wings Joint</th>\n",
       "      <th>Women's Store</th>\n",
       "    </tr>\n",
       "  </thead>\n",
       "  <tbody>\n",
       "    <tr>\n",
       "      <th>0</th>\n",
       "      <td>Adelaide,King,Richmond</td>\n",
       "      <td>0.0</td>\n",
       "      <td>0.0</td>\n",
       "      <td>0.0</td>\n",
       "      <td>0.0</td>\n",
       "      <td>0.0</td>\n",
       "      <td>0.0</td>\n",
       "      <td>0.0</td>\n",
       "      <td>0.0</td>\n",
       "      <td>0.0</td>\n",
       "      <td>...</td>\n",
       "      <td>0.0</td>\n",
       "      <td>0.0</td>\n",
       "      <td>0.02</td>\n",
       "      <td>0.0</td>\n",
       "      <td>0.0</td>\n",
       "      <td>0.0</td>\n",
       "      <td>0.0</td>\n",
       "      <td>0.01</td>\n",
       "      <td>0.0</td>\n",
       "      <td>0.01</td>\n",
       "    </tr>\n",
       "    <tr>\n",
       "      <th>1</th>\n",
       "      <td>Agincourt</td>\n",
       "      <td>0.0</td>\n",
       "      <td>0.0</td>\n",
       "      <td>0.0</td>\n",
       "      <td>0.0</td>\n",
       "      <td>0.0</td>\n",
       "      <td>0.0</td>\n",
       "      <td>0.0</td>\n",
       "      <td>0.0</td>\n",
       "      <td>0.0</td>\n",
       "      <td>...</td>\n",
       "      <td>0.0</td>\n",
       "      <td>0.0</td>\n",
       "      <td>0.00</td>\n",
       "      <td>0.0</td>\n",
       "      <td>0.0</td>\n",
       "      <td>0.0</td>\n",
       "      <td>0.0</td>\n",
       "      <td>0.00</td>\n",
       "      <td>0.0</td>\n",
       "      <td>0.00</td>\n",
       "    </tr>\n",
       "    <tr>\n",
       "      <th>2</th>\n",
       "      <td>Agincourt North,L'Amoreaux East,Milliken,Steel...</td>\n",
       "      <td>0.0</td>\n",
       "      <td>0.0</td>\n",
       "      <td>0.0</td>\n",
       "      <td>0.0</td>\n",
       "      <td>0.0</td>\n",
       "      <td>0.0</td>\n",
       "      <td>0.0</td>\n",
       "      <td>0.0</td>\n",
       "      <td>0.0</td>\n",
       "      <td>...</td>\n",
       "      <td>0.0</td>\n",
       "      <td>0.0</td>\n",
       "      <td>0.00</td>\n",
       "      <td>0.0</td>\n",
       "      <td>0.0</td>\n",
       "      <td>0.0</td>\n",
       "      <td>0.0</td>\n",
       "      <td>0.00</td>\n",
       "      <td>0.0</td>\n",
       "      <td>0.00</td>\n",
       "    </tr>\n",
       "    <tr>\n",
       "      <th>3</th>\n",
       "      <td>Albion Gardens,Beaumond Heights,Humbergate,Jam...</td>\n",
       "      <td>0.0</td>\n",
       "      <td>0.0</td>\n",
       "      <td>0.0</td>\n",
       "      <td>0.0</td>\n",
       "      <td>0.0</td>\n",
       "      <td>0.0</td>\n",
       "      <td>0.0</td>\n",
       "      <td>0.0</td>\n",
       "      <td>0.0</td>\n",
       "      <td>...</td>\n",
       "      <td>0.0</td>\n",
       "      <td>0.0</td>\n",
       "      <td>0.00</td>\n",
       "      <td>0.0</td>\n",
       "      <td>0.0</td>\n",
       "      <td>0.0</td>\n",
       "      <td>0.0</td>\n",
       "      <td>0.00</td>\n",
       "      <td>0.0</td>\n",
       "      <td>0.00</td>\n",
       "    </tr>\n",
       "    <tr>\n",
       "      <th>4</th>\n",
       "      <td>Alderwood,Long Branch</td>\n",
       "      <td>0.0</td>\n",
       "      <td>0.0</td>\n",
       "      <td>0.0</td>\n",
       "      <td>0.0</td>\n",
       "      <td>0.0</td>\n",
       "      <td>0.0</td>\n",
       "      <td>0.0</td>\n",
       "      <td>0.0</td>\n",
       "      <td>0.0</td>\n",
       "      <td>...</td>\n",
       "      <td>0.0</td>\n",
       "      <td>0.0</td>\n",
       "      <td>0.00</td>\n",
       "      <td>0.0</td>\n",
       "      <td>0.0</td>\n",
       "      <td>0.0</td>\n",
       "      <td>0.0</td>\n",
       "      <td>0.00</td>\n",
       "      <td>0.0</td>\n",
       "      <td>0.00</td>\n",
       "    </tr>\n",
       "  </tbody>\n",
       "</table>\n",
       "<p>5 rows × 268 columns</p>\n",
       "</div>"
      ],
      "text/plain": [
       "                                        Neighborhood  Yoga Studio  \\\n",
       "0                             Adelaide,King,Richmond          0.0   \n",
       "1                                          Agincourt          0.0   \n",
       "2  Agincourt North,L'Amoreaux East,Milliken,Steel...          0.0   \n",
       "3  Albion Gardens,Beaumond Heights,Humbergate,Jam...          0.0   \n",
       "4                              Alderwood,Long Branch          0.0   \n",
       "\n",
       "   Accessories Store  Afghan Restaurant  Airport  Airport Food Court  \\\n",
       "0                0.0                0.0      0.0                 0.0   \n",
       "1                0.0                0.0      0.0                 0.0   \n",
       "2                0.0                0.0      0.0                 0.0   \n",
       "3                0.0                0.0      0.0                 0.0   \n",
       "4                0.0                0.0      0.0                 0.0   \n",
       "\n",
       "   Airport Gate  Airport Lounge  Airport Service  Airport Terminal  ...  \\\n",
       "0           0.0             0.0              0.0               0.0  ...   \n",
       "1           0.0             0.0              0.0               0.0  ...   \n",
       "2           0.0             0.0              0.0               0.0  ...   \n",
       "3           0.0             0.0              0.0               0.0  ...   \n",
       "4           0.0             0.0              0.0               0.0  ...   \n",
       "\n",
       "   Train Station  Turkish Restaurant  Vegetarian / Vegan Restaurant  \\\n",
       "0            0.0                 0.0                           0.02   \n",
       "1            0.0                 0.0                           0.00   \n",
       "2            0.0                 0.0                           0.00   \n",
       "3            0.0                 0.0                           0.00   \n",
       "4            0.0                 0.0                           0.00   \n",
       "\n",
       "   Video Game Store  Video Store  Vietnamese Restaurant  Warehouse Store  \\\n",
       "0               0.0          0.0                    0.0              0.0   \n",
       "1               0.0          0.0                    0.0              0.0   \n",
       "2               0.0          0.0                    0.0              0.0   \n",
       "3               0.0          0.0                    0.0              0.0   \n",
       "4               0.0          0.0                    0.0              0.0   \n",
       "\n",
       "   Wine Bar  Wings Joint  Women's Store  \n",
       "0      0.01          0.0           0.01  \n",
       "1      0.00          0.0           0.00  \n",
       "2      0.00          0.0           0.00  \n",
       "3      0.00          0.0           0.00  \n",
       "4      0.00          0.0           0.00  \n",
       "\n",
       "[5 rows x 268 columns]"
      ]
     },
     "execution_count": 51,
     "metadata": {},
     "output_type": "execute_result"
    }
   ],
   "source": [
    "toronto_grouped = toronto_onehot.groupby('Neighborhood').mean().reset_index()\n",
    "toronto_grouped.head()"
   ]
  },
  {
   "cell_type": "markdown",
   "metadata": {},
   "source": [
    "## Clustering the neighborhoods"
   ]
  },
  {
   "cell_type": "code",
   "execution_count": 54,
   "metadata": {},
   "outputs": [],
   "source": [
    "from sklearn.cluster import KMeans "
   ]
  },
  {
   "cell_type": "markdown",
   "metadata": {},
   "source": [
    "We choose to cluster the neighborhoods into 5 clusters"
   ]
  },
  {
   "cell_type": "code",
   "execution_count": 55,
   "metadata": {},
   "outputs": [
    {
     "data": {
      "text/plain": [
       "array([0, 0, 1, 0, 0, 0, 0, 0, 0, 4])"
      ]
     },
     "execution_count": 55,
     "metadata": {},
     "output_type": "execute_result"
    }
   ],
   "source": [
    "# set number of clusters\n",
    "kclusters = 5\n",
    "\n",
    "toronto_grouped_clustering = toronto_grouped.drop('Neighborhood', 1)\n",
    "\n",
    "# run k-means clustering\n",
    "kmeans = KMeans(n_clusters=kclusters, random_state=0).fit(toronto_grouped_clustering)\n",
    "\n",
    "# check cluster labels generated for each row in the dataframe\n",
    "kmeans.labels_[0:10] "
   ]
  },
  {
   "cell_type": "markdown",
   "metadata": {},
   "source": [
    "#### Add back the cluster number to each venue"
   ]
  },
  {
   "cell_type": "code",
   "execution_count": 58,
   "metadata": {},
   "outputs": [],
   "source": [
    "toronto_grouped['cluster'] = kmeans.labels_"
   ]
  },
  {
   "cell_type": "code",
   "execution_count": 62,
   "metadata": {},
   "outputs": [
    {
     "name": "stderr",
     "output_type": "stream",
     "text": [
      "c:\\users\\roman\\appdata\\local\\programs\\python\\python38-32\\lib\\site-packages\\pandas\\core\\frame.py:4125: SettingWithCopyWarning: \n",
      "A value is trying to be set on a copy of a slice from a DataFrame\n",
      "\n",
      "See the caveats in the documentation: https://pandas.pydata.org/pandas-docs/stable/user_guide/indexing.html#returning-a-view-versus-a-copy\n",
      "  return super().rename(\n"
     ]
    }
   ],
   "source": [
    "toronto_data = toronto_grouped[['Neighborhood', 'cluster']]\n",
    "toronto_data.rename(columns={'Neighborhood': 'Neighbourhood'}, inplace=True)"
   ]
  },
  {
   "cell_type": "code",
   "execution_count": 64,
   "metadata": {},
   "outputs": [],
   "source": [
    "toronto_clust = pd.merge(toronto_data, df_toronto_final, on=['Neighbourhood'])"
   ]
  },
  {
   "cell_type": "code",
   "execution_count": 65,
   "metadata": {
    "scrolled": true
   },
   "outputs": [
    {
     "data": {
      "text/html": [
       "<div>\n",
       "<style scoped>\n",
       "    .dataframe tbody tr th:only-of-type {\n",
       "        vertical-align: middle;\n",
       "    }\n",
       "\n",
       "    .dataframe tbody tr th {\n",
       "        vertical-align: top;\n",
       "    }\n",
       "\n",
       "    .dataframe thead th {\n",
       "        text-align: right;\n",
       "    }\n",
       "</style>\n",
       "<table border=\"1\" class=\"dataframe\">\n",
       "  <thead>\n",
       "    <tr style=\"text-align: right;\">\n",
       "      <th></th>\n",
       "      <th>Neighbourhood</th>\n",
       "      <th>cluster</th>\n",
       "      <th>PostalCode</th>\n",
       "      <th>Borough</th>\n",
       "      <th>Latitude</th>\n",
       "      <th>Longitude</th>\n",
       "    </tr>\n",
       "  </thead>\n",
       "  <tbody>\n",
       "    <tr>\n",
       "      <th>0</th>\n",
       "      <td>Adelaide,King,Richmond</td>\n",
       "      <td>0</td>\n",
       "      <td>M5H</td>\n",
       "      <td>Downtown Toronto</td>\n",
       "      <td>43.650571</td>\n",
       "      <td>-79.384568</td>\n",
       "    </tr>\n",
       "    <tr>\n",
       "      <th>1</th>\n",
       "      <td>Agincourt</td>\n",
       "      <td>0</td>\n",
       "      <td>M1S</td>\n",
       "      <td>Scarborough</td>\n",
       "      <td>43.794200</td>\n",
       "      <td>-79.262029</td>\n",
       "    </tr>\n",
       "    <tr>\n",
       "      <th>2</th>\n",
       "      <td>Agincourt North,L'Amoreaux East,Milliken,Steel...</td>\n",
       "      <td>1</td>\n",
       "      <td>M1V</td>\n",
       "      <td>Scarborough</td>\n",
       "      <td>43.815252</td>\n",
       "      <td>-79.284577</td>\n",
       "    </tr>\n",
       "    <tr>\n",
       "      <th>3</th>\n",
       "      <td>Albion Gardens,Beaumond Heights,Humbergate,Jam...</td>\n",
       "      <td>0</td>\n",
       "      <td>M9V</td>\n",
       "      <td>Etobicoke</td>\n",
       "      <td>43.739416</td>\n",
       "      <td>-79.588437</td>\n",
       "    </tr>\n",
       "    <tr>\n",
       "      <th>4</th>\n",
       "      <td>Alderwood,Long Branch</td>\n",
       "      <td>0</td>\n",
       "      <td>M8W</td>\n",
       "      <td>Etobicoke</td>\n",
       "      <td>43.602414</td>\n",
       "      <td>-79.543484</td>\n",
       "    </tr>\n",
       "  </tbody>\n",
       "</table>\n",
       "</div>"
      ],
      "text/plain": [
       "                                       Neighbourhood  cluster PostalCode  \\\n",
       "0                             Adelaide,King,Richmond        0        M5H   \n",
       "1                                          Agincourt        0        M1S   \n",
       "2  Agincourt North,L'Amoreaux East,Milliken,Steel...        1        M1V   \n",
       "3  Albion Gardens,Beaumond Heights,Humbergate,Jam...        0        M9V   \n",
       "4                              Alderwood,Long Branch        0        M8W   \n",
       "\n",
       "            Borough   Latitude  Longitude  \n",
       "0  Downtown Toronto  43.650571 -79.384568  \n",
       "1       Scarborough  43.794200 -79.262029  \n",
       "2       Scarborough  43.815252 -79.284577  \n",
       "3         Etobicoke  43.739416 -79.588437  \n",
       "4         Etobicoke  43.602414 -79.543484  "
      ]
     },
     "execution_count": 65,
     "metadata": {},
     "output_type": "execute_result"
    }
   ],
   "source": [
    "toronto_clust.head()"
   ]
  },
  {
   "cell_type": "markdown",
   "metadata": {},
   "source": [
    "## Visualize clusters"
   ]
  },
  {
   "cell_type": "code",
   "execution_count": 70,
   "metadata": {},
   "outputs": [],
   "source": [
    "import folium\n",
    "import matplotlib.cm as cm\n",
    "import matplotlib.colors as colors\n",
    "\n",
    "latitude=43.650571\n",
    "longitude=-79.384568"
   ]
  },
  {
   "cell_type": "code",
   "execution_count": 72,
   "metadata": {},
   "outputs": [
    {
     "data": {
      "text/html": [
       "<div style=\"width:100%;\"><div style=\"position:relative;width:100%;height:0;padding-bottom:60%;\"><iframe src=\"data:text/html;charset=utf-8;base64,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\" style=\"position:absolute;width:100%;height:100%;left:0;top:0;border:none !important;\" allowfullscreen webkitallowfullscreen mozallowfullscreen></iframe></div></div>"
      ],
      "text/plain": [
       "<folium.folium.Map at 0x26ca69e8>"
      ]
     },
     "execution_count": 72,
     "metadata": {},
     "output_type": "execute_result"
    }
   ],
   "source": [
    "# create map\n",
    "map_clusters = folium.Map(location=[latitude, longitude], zoom_start=10)\n",
    "\n",
    "# set color scheme for the clusters\n",
    "x = np.arange(kclusters)\n",
    "ys = [i + x + (i*x)**2 for i in range(kclusters)]\n",
    "colors_array = cm.rainbow(np.linspace(0, 1, len(ys)))\n",
    "rainbow = [colors.rgb2hex(i) for i in colors_array]\n",
    "\n",
    "# add markers to the map\n",
    "markers_colors = []\n",
    "for lat, lon, poi, cluster in zip(toronto_clust['Latitude'], toronto_clust['Longitude'], toronto_clust['Neighbourhood'], toronto_clust['cluster']):\n",
    "    label = folium.Popup(str(poi) + ' Cluster ' + str(cluster), parse_html=True)\n",
    "    folium.CircleMarker(\n",
    "        [lat, lon],\n",
    "        radius=5,\n",
    "        popup=label,\n",
    "        color=rainbow[cluster-1],\n",
    "        fill=True,\n",
    "        fill_color=rainbow[cluster-1],\n",
    "        fill_opacity=0.7).add_to(map_clusters)\n",
    "       \n",
    "map_clusters"
   ]
  },
  {
   "cell_type": "code",
   "execution_count": null,
   "metadata": {},
   "outputs": [],
   "source": []
  }
 ],
 "metadata": {
  "kernelspec": {
   "display_name": "Python 3",
   "language": "python",
   "name": "python3"
  },
  "language_info": {
   "codemirror_mode": {
    "name": "ipython",
    "version": 3
   },
   "file_extension": ".py",
   "mimetype": "text/x-python",
   "name": "python",
   "nbconvert_exporter": "python",
   "pygments_lexer": "ipython3",
   "version": "3.8.1"
  }
 },
 "nbformat": 4,
 "nbformat_minor": 4
}
